{
 "cells": [
  {
   "cell_type": "code",
   "execution_count": 1,
   "metadata": {
    "collapsed": true
   },
   "outputs": [],
   "source": [
    "import numpy as np\n",
    "import matplotlib.pyplot as plt\n",
    "import matplotlib.animation as animation\n",
    "import matplotlib.patches as patches\n",
    "from PIL import Image\n",
    "import tensorflow as tf\n",
    "from config import Config\n",
    "from tensorflow.examples.tutorials.mnist import input_data"
   ]
  },
  {
   "cell_type": "code",
   "execution_count": 2,
   "metadata": {
    "collapsed": false
   },
   "outputs": [
    {
     "name": "stdout",
     "output_type": "stream",
     "text": [
      "Extracting MNIST_data/train-images-idx3-ubyte.gz\n",
      "Extracting MNIST_data/train-labels-idx1-ubyte.gz\n",
      "Extracting MNIST_data/t10k-images-idx3-ubyte.gz\n",
      "Extracting MNIST_data/t10k-labels-idx1-ubyte.gz\n"
     ]
    }
   ],
   "source": [
    "mnist = input_data.read_data_sets('MNIST_data', one_hot=False)\n",
    "mnist_train = mnist.train\n",
    "conf = Config()"
   ]
  },
  {
   "cell_type": "code",
   "execution_count": 3,
   "metadata": {
    "collapsed": false
   },
   "outputs": [],
   "source": [
    "train_locs = np.load('train_distill.npz')['locs']\n",
    "train_logits = np.load('train_distill.npz')['logits']\n",
    "mnist_train.locs = train_locs\n",
    "mnist_train.logits = train_logits"
   ]
  },
  {
   "cell_type": "code",
   "execution_count": 4,
   "metadata": {
    "collapsed": true
   },
   "outputs": [],
   "source": [
    "def transform_coords(coords, width, height):\n",
    "    \"\"\"Helper function to transform from normalized, centered to cartesian.\"\"\"\n",
    "    new_coords = ((coords[0] + 1) * width / 2.0, (coords[1] + 1) * width / 2.0)\n",
    "    return new_coords"
   ]
  },
  {
   "cell_type": "code",
   "execution_count": 29,
   "metadata": {
    "collapsed": false
   },
   "outputs": [
    {
     "name": "stdout",
     "output_type": "stream",
     "text": [
      "(15.58477383852005, 12.68387633562088)\n"
     ]
    },
    {
     "data": {
      "image/png": "[encoded data removed]",
      "text/plain": [
       "<matplotlib.figure.Figure at 0x11d3d1c50>"
      ]
     },
     "metadata": {},
     "output_type": "display_data"
    }
   ],
   "source": [
    "im = mnist_train.images[20000].reshape((28, 28))\n",
    "im.shape\n",
    "# Create figure and axes\n",
    "fig,ax = plt.subplots(1)\n",
    "\n",
    "# Display the image\n",
    "test = ax.imshow(im)\n",
    "\n",
    "# Create a Rectangle patch\n",
    "coords_arr = transform_coords(mnist_train.locs[20000][5], conf.original_size, conf.original_size)\n",
    "coords = (coords_arr[0], coords_arr[1])\n",
    "print(coords)\n",
    "rect = patches.Rectangle(coords, conf.win_size, conf.win_size, linewidth=1, edgecolor='r', facecolor='none')\n",
    "\n",
    "# Add the patch to the Axes\n",
    "ax.add_patch(rect)\n",
    "\n",
    "plt.show()"
   ]
  },
  {
   "cell_type": "code",
   "execution_count": 52,
   "metadata": {
    "collapsed": false
   },
   "outputs": [],
   "source": [
    "def draw_ram(image_num, mnist_train, num_glimpses, orig_size, win_size):\n",
    "    im = mnist_train.images[image_num].reshape((orig_size, orig_size))\n",
    "    # Create figure and axes\n",
    "    fig, ax = plt.subplots(1)\n",
    "    patch = patches.Rectangle((0, 0), 0, 0, linewidth=1, edgecolor='r', facecolor='none')\n",
    "\n",
    "    # initialization function: plot the background of each frame\n",
    "    def init():\n",
    "        ax.imshow(im)\n",
    "        ax.add_patch(patch)\n",
    "        return [patch]\n",
    "\n",
    "    # animation function.  This is called sequentially\n",
    "    def animate(i):\n",
    "        coords = transform_coords(mnist_train.locs[image_num][i], conf.original_size, conf.original_size)\n",
    "        patch.set_width(win_size)\n",
    "        patch.set_height(win_size)\n",
    "        patch.set_xy(coords)\n",
    "        return [patch]\n",
    "\n",
    "    # call the animator.  blit=True means only re-draw the parts that have changed.\n",
    "    anim = animation.FuncAnimation(fig, animate, init_func=init,\n",
    "                                   frames=num_glimpses, blit=True)\n",
    "\n",
    "    anim.save('ram.mp4', fps=num_glimpses, extra_args=['-vcodec', 'libx264'])\n",
    "    plt.show()"
   ]
  },
  {
   "cell_type": "code",
   "execution_count": 54,
   "metadata": {
    "collapsed": false
   },
   "outputs": [
    {
     "data": {
      "image/png": "[encoded data removed]",
      "text/plain": [
       "<matplotlib.figure.Figure at 0x10a058050>"
      ]
     },
     "metadata": {},
     "output_type": "display_data"
    }
   ],
   "source": [
    "draw_ram(21502, mnist_train, 6, 28, 8)"
   ]
  },
  {
   "cell_type": "code",
   "execution_count": null,
   "metadata": {
    "collapsed": true
   },
   "outputs": [],
   "source": []
  }
 ],
 "metadata": {
  "kernelspec": {
   "display_name": "Python 2",
   "language": "python",
   "name": "python2"
  },
  "language_info": {
   "codemirror_mode": {
    "name": "ipython",
    "version": 2
   },
   "file_extension": ".py",
   "mimetype": "text/x-python",
   "name": "python",
   "nbconvert_exporter": "python",
   "pygments_lexer": "ipython2",
   "version": "2.7.13"
  }
 },
 "nbformat": 4,
 "nbformat_minor": 2
}
