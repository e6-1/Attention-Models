{
 "cells": [
  {
   "cell_type": "code",
   "execution_count": 10,
   "metadata": {
    "collapsed": false
   },
   "outputs": [
    {
     "name": "stdout",
     "output_type": "stream",
     "text": [
      "Processing frames...\n",
      "2\n",
      "(120, 181)\n",
      "3\n",
      "(242, 128)\n",
      "1\n",
      "(156, 116)\n"
     ]
    }
   ],
   "source": [
    "import imageio\n",
    "from imageio.core.util import asarray as imgToArr\n",
    "import matplotlib.pylab as pylab\n",
    "from math import sqrt\n",
    "import numpy as np\n",
    "import pandas as pd\n",
    "from random import shuffle\n",
    "import scipy.misc\n",
    "\n",
    "import matplotlib.pyplot as plt\n",
    "import matplotlib.animation as animation\n",
    "import matplotlib.patches as patches\n",
    "from PIL import Image\n",
    "\n",
    "# Bucketing parameters\n",
    "num_buckets = 4\n",
    "\n",
    "def get_bucket(num_buckets, x, y, width, height):\n",
    "    num_buckets = int(sqrt(num_buckets))\n",
    "    delta_width = width / num_buckets\n",
    "    delta_height = height / num_buckets\n",
    "    for i in range(num_buckets):\n",
    "        if i == (num_buckets - 1):\n",
    "            for j in range(num_buckets):\n",
    "                if j == (num_buckets - 1):\n",
    "                    return num_buckets * j + i\n",
    "                if y <= (j + 1) * delta_height:\n",
    "                    return num_buckets * j + i\n",
    "        if x <= (i + 1) * delta_width:\n",
    "            for j in range(num_buckets):\n",
    "                if j == (num_buckets - 1):\n",
    "                    return num_buckets * j + i\n",
    "                if y <= (j + 1) * delta_height:\n",
    "                    return (num_buckets * j + i)\n",
    "\n",
    "# Columns: Frame, Brake, GazeX, GazeY\n",
    "dataFile = './data/cleaned_data.csv'\n",
    "df = pd.read_csv(dataFile, delimiter='\\t')\n",
    "\n",
    "\"\"\"\n",
    "brake = df[df['Brake'] > 0]\n",
    "nonbrake = df[df['Brake'] == 0]\n",
    "nonbrake = nonbrake[:len(brake)]  # Braking is far fewer than nonbraking, so trim down\n",
    "df = pd.concat([brake, nonbrake])\n",
    "df = df.drop(df[df['GazeX'] < 0].index)\n",
    "df = df.drop(df[df['GazeY'] < 0].index)\n",
    "df = df.dropna()\n",
    "df = df.reset_index(drop=True)  # Resets the index to the usual 0, 1, 2, ...\n",
    "\"\"\"\n",
    "\n",
    "filename = 'data/driving.avi'\n",
    "vid = imageio.get_reader(filename,  'ffmpeg')\n",
    "batch = 0\n",
    "count = 0\n",
    "\n",
    "batch_size = 1000\n",
    "buckets = np.zeros((batch_size, num_buckets))\n",
    "imgs = np.zeros((batch_size, 244, 244, 1))\n",
    "gazes = np.zeros((batch_size, 2))\n",
    "img_size = (244, 900, 3)\n",
    "print(\"Processing frames...\")\n",
    "\n",
    "\n",
    "midx = 450\n",
    "width = 244\n",
    "midx_lower = midx - width / 2\n",
    "midx_upper = midx + width / 2\n",
    "\n",
    "# Drop the ones that are outside of the range we're considering\n",
    "df = df.drop(df[df['GazeX'] < midx_lower].index)\n",
    "df = df.drop(df[df['GazeX'] > midx_upper].index)\n",
    "df = df.reset_index(drop=True)\n",
    "df = df.dropna()\n",
    "\n",
    "# Create figure and axes\n",
    "fig,ax = plt.subplots(1)\n",
    "\n",
    "# Display the image\n",
    "\n",
    "\n",
    "indices = range(len(df))\n",
    "shuffle(indices)\n",
    "for index in indices:\n",
    "    frame = df.loc[index, 'Frame']\n",
    "    x = df.loc[index, 'GazeX'] - midx_lower\n",
    "    y = df.loc[index, 'GazeY']\n",
    "    image = vid.get_data(frame)\n",
    "    if image.shape == img_size:\n",
    "        height, width, depth = image.shape\n",
    "\n",
    "        # Store images\n",
    "        im = image[:, midx_lower:midx_upper, 2]\n",
    "        imgs[count, :, :, 0] = im\n",
    "        bucket = get_bucket(num_buckets, x, y, 244, 244)\n",
    "        print(bucket)\n",
    "        print(x, y)\n",
    "        buckets[count, bucket] = 1\n",
    "        # Store gaze location\n",
    "        gazes[count] = np.array([x, y])\n",
    "\n",
    "        # increment count\n",
    "        count += 1\n",
    "        # Wipe and save batch\n",
    "        if count > 1:\n",
    "            print(\"processed: {0}\".format(count))\n",
    "            SAVE_FILE_NAME = '/home/data2/vision6/ethpete/test_data/batch_{0}'.format(batch)\n",
    "            np.savez_compressed(\n",
    "                SAVE_FILE_NAME,\n",
    "                imgs=imgs,\n",
    "                gazes=gazes,\n",
    "                buckets=buckets)\n",
    "            print(\"Saved \" + SAVE_FILE_NAME)\n",
    "            buckets = np.zeros((batch_size, num_buckets))\n",
    "            # Reset\n",
    "            batch += 1\n",
    "            count = 0\n",
    "            break\n",
    "\n"
   ]
  },
  {
   "cell_type": "code",
   "execution_count": 26,
   "metadata": {
    "collapsed": false
   },
   "outputs": [
    {
     "name": "stdout",
     "output_type": "stream",
     "text": [
      "(122, 122)\n"
     ]
    },
    {
     "data": {
      "text/plain": [
       "1"
      ]
     },
     "execution_count": 26,
     "metadata": {},
     "output_type": "execute_result"
    }
   ],
   "source": [
    "get_bucket(4, 150, 0, 244, 244)"
   ]
  },
  {
   "cell_type": "code",
   "execution_count": null,
   "metadata": {
    "collapsed": true
   },
   "outputs": [],
   "source": []
  }
 ],
 "metadata": {
  "kernelspec": {
   "display_name": "Python 2",
   "language": "python",
   "name": "python2"
  },
  "language_info": {
   "codemirror_mode": {
    "name": "ipython",
    "version": 2
   },
   "file_extension": ".py",
   "mimetype": "text/x-python",
   "name": "python",
   "nbconvert_exporter": "python",
   "pygments_lexer": "ipython2",
   "version": "2.7.13"
  }
 },
 "nbformat": 4,
 "nbformat_minor": 2
}
